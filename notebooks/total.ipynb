{
 "cells": [
  {
   "cell_type": "code",
   "execution_count": 1,
   "metadata": {},
   "outputs": [],
   "source": [
    "import streamlit"
   ]
  },
  {
   "cell_type": "code",
   "execution_count": 1,
   "metadata": {},
   "outputs": [],
   "source": [
    "import os\n",
    "from dotenv import load_dotenv\n",
    "load_dotenv()\n",
    "gemini_api=os.getenv(\"gemini_api\")\n",
    "openai_api=os.getenv(\"openai_api\")\n",
    "os.environ['GOOGLE_API_KEY']=gemini_api\n",
    "from langchain_google_genai.chat_models import ChatGoogleGenerativeAI\n",
    "from langchain_openai.chat_models import ChatOpenAI\n",
    "# llm = ChatOpenAI(model=\"gpt-4o-mini\",api_key=openai_api, temperature=0)\n",
    "llm = ChatGoogleGenerativeAI(model=\"gemini-2.0-flash-exp\",   api_key=gemini_api)\n",
    "\n",
    "from IPython.display import display, Markdown,Image\n"
   ]
  },
  {
   "cell_type": "code",
   "execution_count": 2,
   "metadata": {},
   "outputs": [
    {
     "data": {
      "text/plain": [
       "{'error': {'code': 'NotFoundError', 'message': 'Resource not found.'}}"
      ]
     },
     "execution_count": 2,
     "metadata": {},
     "output_type": "execute_result"
    }
   ],
   "source": [
    "import requests\n",
    "\n",
    "##### INPUTS test cases\n",
    "ip = \"192.168.11.1\"\n",
    "\n",
    "##### Creadientials \n",
    "api_key = \n",
    "userName = 'moveiton'\n",
    "\n",
    "\n",
    "##### Web Request maker\n",
    "\n",
    "\n",
    "#### Hitting the APi\n",
    "def get_ip_all_details(ip_to_search:str, vt_api_key):\n",
    "    headers = {\n",
    "    \"accept\": \"application/json\",\n",
    "    \"x-apikey\": vt_api_key}\n",
    "    url = \"https://www.virustotal.com/api/v3/ip_addresses/\"\n",
    "    response = requests.get(url+ip_to_search, headers=headers)\n",
    "    result=eval(response.text)\n",
    "    # attributes=result['data']['attributes']\n",
    "\n",
    "    # stats=attributes['last_analysis_stats']\n",
    "    return response\n",
    "\n",
    "#### Main\n",
    "\n",
    "resp=get_ip_all_details(\"adsfa\")\n",
    "resp.json()"
   ]
  },
  {
   "cell_type": "code",
   "execution_count": 3,
   "metadata": {},
   "outputs": [],
   "source": [
    "from langgraph.graph import StateGraph, END,START\n",
    "from langgraph.prebuilt import ToolNode,tool_node, create_react_agent\n",
    "from langgraph.checkpoint.memory import MemorySaver\n",
    "from langchain_core.tools import tool\n",
    "\n",
    "from pydantic import BaseModel, Field\n",
    "from typing import TypedDict, List, Dict, Union"
   ]
  },
  {
   "cell_type": "code",
   "execution_count": 18,
   "metadata": {},
   "outputs": [],
   "source": [
    "@tool\n",
    "def get_ip_all_details(input_ip:str,vt_api_key):\n",
    "    \"\"\"Get details related to provided IP address\"\"\"\n",
    "\n",
    "    headers = {\n",
    "    \"accept\": \"application/json\",\n",
    "    \"x-apikey\": vt_api_key}\n",
    "    url = \"https://www.virustotal.com/api/v3/ip_addresses/\"\n",
    "\n",
    "    ip_to_search=input_ip\n",
    "    response = requests.get(url+ip_to_search, headers=headers)\n",
    "    if response.status_code==200:\n",
    "        return response.text\n",
    "    else:\n",
    "        return \"Provided input is not a correct IP address\"\n",
    "tools=[get_ip_all_details]\n",
    "\n",
    "system_prompt = f\"\"\"\n",
    "    You are a skilled cybersecurity analyst tasked with evaluating IP addresses. \n",
    "    Your role is to use the VirusTotal tool to gather relevant information about the IP address provided. \n",
    "    Analyze the VirusTotal results thoroughly and provide:\n",
    "    1. A concise summary of key findings, including reputation, associated tags, and analysis results.\n",
    "    2. Clear and actionable recommendations based on the analysis.\n",
    "    Ensure your analysis is precise and actionable.\n",
    "\"\"\"\n",
    "\n",
    "memory=MemorySaver()\n",
    "graph=create_react_agent(model=llm, tools=tools,checkpointer=memory, state_modifier=system_prompt )"
   ]
  },
  {
   "cell_type": "code",
   "execution_count": 19,
   "metadata": {},
   "outputs": [],
   "source": [
    "thread={\"configurable\":{\"thread_id\":\"1\"}}\n",
    "user=\"hi there\"\n",
    "for i in range(3):\n",
    "    result=graph.invoke({\"messages\":user},config=thread)\n",
    "    ai_message=result['messages'][-1].content\n",
    "    user=input(prompt=ai_message)"
   ]
  },
  {
   "cell_type": "code",
   "execution_count": 21,
   "metadata": {},
   "outputs": [
    {
     "data": {
      "text/plain": [
       "[HumanMessage(content='hi there', additional_kwargs={}, response_metadata={}, id='b233369e-1b90-4812-b491-da0edf569cb6'),\n",
       " AIMessage(content=\"Hello! I'm ready to analyze an IP address for you. Please provide the IP address you'd like me to investigate.\\n\", additional_kwargs={}, response_metadata={'prompt_feedback': {'block_reason': 0, 'safety_ratings': []}, 'finish_reason': 'STOP', 'safety_ratings': [{'category': 'HARM_CATEGORY_HATE_SPEECH', 'probability': 'NEGLIGIBLE', 'blocked': False}, {'category': 'HARM_CATEGORY_DANGEROUS_CONTENT', 'probability': 'MEDIUM', 'blocked': False}, {'category': 'HARM_CATEGORY_HARASSMENT', 'probability': 'NEGLIGIBLE', 'blocked': False}, {'category': 'HARM_CATEGORY_SEXUALLY_EXPLICIT', 'probability': 'NEGLIGIBLE', 'blocked': False}]}, id='run-dd4e1dc8-d8d7-4be3-980b-ccc90ccc14b8-0', usage_metadata={'input_tokens': 139, 'output_tokens': 28, 'total_tokens': 167, 'input_token_details': {'cache_read': 0}}),\n",
       " HumanMessage(content='this is the ip address 192.168.11.1', additional_kwargs={}, response_metadata={}, id='d8d5db89-1088-4888-83dc-fabdd9cea130'),\n",
       " AIMessage(content='', additional_kwargs={'function_call': {'name': 'get_ip_all_details', 'arguments': '{\"input\": \"192.168.11.1\"}'}}, response_metadata={'prompt_feedback': {'block_reason': 0, 'safety_ratings': []}, 'finish_reason': 'STOP', 'safety_ratings': [{'category': 'HARM_CATEGORY_HATE_SPEECH', 'probability': 'NEGLIGIBLE', 'blocked': False}, {'category': 'HARM_CATEGORY_DANGEROUS_CONTENT', 'probability': 'NEGLIGIBLE', 'blocked': False}, {'category': 'HARM_CATEGORY_HARASSMENT', 'probability': 'NEGLIGIBLE', 'blocked': False}, {'category': 'HARM_CATEGORY_SEXUALLY_EXPLICIT', 'probability': 'NEGLIGIBLE', 'blocked': False}]}, id='run-25a92c70-d9d0-4cee-8c8d-b0c30b56a3fa-0', tool_calls=[{'name': 'get_ip_all_details', 'args': {'input': '192.168.11.1'}, 'id': 'a1e799c9-2fe5-4778-9230-60a901c969ae', 'type': 'tool_call'}], usage_metadata={'input_tokens': 187, 'output_tokens': 20, 'total_tokens': 207, 'input_token_details': {'cache_read': 0}}),\n",
       " ToolMessage(content='{\"data\": {\"id\": \"192.168.11.1\", \"type\": \"ip_address\", \"links\": {\"self\": \"https://www.virustotal.com/api/v3/ip_addresses/192.168.11.1\"}, \"attributes\": {\"reputation\": 0, \"last_analysis_results\": {\"Acronis\": {\"method\": \"blacklist\", \"engine_name\": \"Acronis\", \"category\": \"harmless\", \"result\": \"clean\"}, \"0xSI_f33d\": {\"method\": \"blacklist\", \"engine_name\": \"0xSI_f33d\", \"category\": \"undetected\", \"result\": \"unrated\"}, \"Abusix\": {\"method\": \"blacklist\", \"engine_name\": \"Abusix\", \"category\": \"harmless\", \"result\": \"clean\"}, \"ADMINUSLabs\": {\"method\": \"blacklist\", \"engine_name\": \"ADMINUSLabs\", \"category\": \"harmless\", \"result\": \"clean\"}, \"Axur\": {\"method\": \"blacklist\", \"engine_name\": \"Axur\", \"category\": \"undetected\", \"result\": \"unrated\"}, \"Criminal IP\": {\"method\": \"blacklist\", \"engine_name\": \"Criminal IP\", \"category\": \"undetected\", \"result\": \"unrated\"}, \"AILabs (MONITORAPP)\": {\"method\": \"blacklist\", \"engine_name\": \"AILabs (MONITORAPP)\", \"category\": \"harmless\", \"result\": \"clean\"}, \"AlienVault\": {\"method\": \"blacklist\", \"engine_name\": \"AlienVault\", \"category\": \"harmless\", \"result\": \"clean\"}, \"alphaMountain.ai\": {\"method\": \"blacklist\", \"engine_name\": \"alphaMountain.ai\", \"category\": \"harmless\", \"result\": \"clean\"}, \"AlphaSOC\": {\"method\": \"blacklist\", \"engine_name\": \"AlphaSOC\", \"category\": \"harmless\", \"result\": \"clean\"}, \"Antiy-AVL\": {\"method\": \"blacklist\", \"engine_name\": \"Antiy-AVL\", \"category\": \"harmless\", \"result\": \"clean\"}, \"ArcSight Threat Intelligence\": {\"method\": \"blacklist\", \"engine_name\": \"ArcSight Threat Intelligence\", \"category\": \"undetected\", \"result\": \"unrated\"}, \"AutoShun\": {\"method\": \"blacklist\", \"engine_name\": \"AutoShun\", \"category\": \"undetected\", \"result\": \"unrated\"}, \"benkow.cc\": {\"method\": \"blacklist\", \"engine_name\": \"benkow.cc\", \"category\": \"harmless\", \"result\": \"clean\"}, \"Bfore.Ai PreCrime\": {\"method\": \"blacklist\", \"engine_name\": \"Bfore.Ai PreCrime\", \"category\": \"undetected\", \"result\": \"unrated\"}, \"BitDefender\": {\"method\": \"blacklist\", \"engine_name\": \"BitDefender\", \"category\": \"harmless\", \"result\": \"clean\"}, \"Bkav\": {\"method\": \"blacklist\", \"engine_name\": \"Bkav\", \"category\": \"undetected\", \"result\": \"unrated\"}, \"Blueliv\": {\"method\": \"blacklist\", \"engine_name\": \"Blueliv\", \"category\": \"harmless\", \"result\": \"clean\"}, \"Certego\": {\"method\": \"blacklist\", \"engine_name\": \"Certego\", \"category\": \"harmless\", \"result\": \"clean\"}, \"Chong Lua Dao\": {\"method\": \"blacklist\", \"engine_name\": \"Chong Lua Dao\", \"category\": \"harmless\", \"result\": \"clean\"}, \"CINS Army\": {\"method\": \"blacklist\", \"engine_name\": \"CINS Army\", \"category\": \"harmless\", \"result\": \"clean\"}, \"Cluster25\": {\"method\": \"blacklist\", \"engine_name\": \"Cluster25\", \"category\": \"undetected\", \"result\": \"unrated\"}, \"CRDF\": {\"method\": \"blacklist\", \"engine_name\": \"CRDF\", \"category\": \"harmless\", \"result\": \"clean\"}, \"CSIS Security Group\": {\"method\": \"blacklist\", \"engine_name\": \"CSIS Security Group\", \"category\": \"undetected\", \"result\": \"unrated\"}, \"Snort IP sample list\": {\"method\": \"blacklist\", \"engine_name\": \"Snort IP sample list\", \"category\": \"harmless\", \"result\": \"clean\"}, \"CMC Threat Intelligence\": {\"method\": \"blacklist\", \"engine_name\": \"CMC Threat Intelligence\", \"category\": \"harmless\", \"result\": \"clean\"}, \"Cyan\": {\"method\": \"blacklist\", \"engine_name\": \"Cyan\", \"category\": \"undetected\", \"result\": \"unrated\"}, \"Cyble\": {\"method\": \"blacklist\", \"engine_name\": \"Cyble\", \"category\": \"harmless\", \"result\": \"clean\"}, \"CyRadar\": {\"method\": \"blacklist\", \"engine_name\": \"CyRadar\", \"category\": \"harmless\", \"result\": \"clean\"}, \"DNS8\": {\"method\": \"blacklist\", \"engine_name\": \"DNS8\", \"category\": \"harmless\", \"result\": \"clean\"}, \"Dr.Web\": {\"method\": \"blacklist\", \"engine_name\": \"Dr.Web\", \"category\": \"harmless\", \"result\": \"clean\"}, \"Ermes\": {\"method\": \"blacklist\", \"engine_name\": \"Ermes\", \"category\": \"undetected\", \"result\": \"unrated\"}, \"ESET\": {\"method\": \"blacklist\", \"engine_name\": \"ESET\", \"category\": \"harmless\", \"result\": \"clean\"}, \"ESTsecurity\": {\"method\": \"blacklist\", \"engine_name\": \"ESTsecurity\", \"category\": \"harmless\", \"result\": \"clean\"}, \"EmergingThreats\": {\"method\": \"blacklist\", \"engine_name\": \"EmergingThreats\", \"category\": \"harmless\", \"result\": \"clean\"}, \"Emsisoft\": {\"method\": \"blacklist\", \"engine_name\": \"Emsisoft\", \"category\": \"harmless\", \"result\": \"clean\"}, \"Forcepoint ThreatSeeker\": {\"method\": \"blacklist\", \"engine_name\": \"Forcepoint ThreatSeeker\", \"category\": \"harmless\", \"result\": \"clean\"}, \"Fortinet\": {\"method\": \"blacklist\", \"engine_name\": \"Fortinet\", \"category\": \"harmless\", \"result\": \"clean\"}, \"G-Data\": {\"method\": \"blacklist\", \"engine_name\": \"G-Data\", \"category\": \"harmless\", \"result\": \"clean\"}, \"GCP Abuse Intelligence\": {\"method\": \"blacklist\", \"engine_name\": \"GCP Abuse Intelligence\", \"category\": \"undetected\", \"result\": \"unrated\"}, \"Google Safebrowsing\": {\"method\": \"blacklist\", \"engine_name\": \"Google Safebrowsing\", \"category\": \"harmless\", \"result\": \"clean\"}, \"GreenSnow\": {\"method\": \"blacklist\", \"engine_name\": \"GreenSnow\", \"category\": \"harmless\", \"result\": \"clean\"}, \"Gridinsoft\": {\"method\": \"blacklist\", \"engine_name\": \"Gridinsoft\", \"category\": \"undetected\", \"result\": \"unrated\"}, \"Heimdal Security\": {\"method\": \"blacklist\", \"engine_name\": \"Heimdal Security\", \"category\": \"harmless\", \"result\": \"clean\"}, \"Hunt.io Intelligence\": {\"method\": \"blacklist\", \"engine_name\": \"Hunt.io Intelligence\", \"category\": \"undetected\", \"result\": \"unrated\"}, \"IPsum\": {\"method\": \"blacklist\", \"engine_name\": \"IPsum\", \"category\": \"harmless\", \"result\": \"clean\"}, \"Juniper Networks\": {\"method\": \"blacklist\", \"engine_name\": \"Juniper Networks\", \"category\": \"harmless\", \"result\": \"clean\"}, \"Kaspersky\": {\"method\": \"blacklist\", \"engine_name\": \"Kaspersky\", \"category\": \"undetected\", \"result\": \"unrated\"}, \"Lionic\": {\"method\": \"blacklist\", \"engine_name\": \"Lionic\", \"category\": \"harmless\", \"result\": \"clean\"}, \"Lumu\": {\"method\": \"blacklist\", \"engine_name\": \"Lumu\", \"category\": \"undetected\", \"result\": \"unrated\"}, \"MalwarePatrol\": {\"method\": \"blacklist\", \"engine_name\": \"MalwarePatrol\", \"category\": \"harmless\", \"result\": \"clean\"}, \"MalwareURL\": {\"method\": \"blacklist\", \"engine_name\": \"MalwareURL\", \"category\": \"undetected\", \"result\": \"unrated\"}, \"Malwared\": {\"method\": \"blacklist\", \"engine_name\": \"Malwared\", \"category\": \"harmless\", \"result\": \"clean\"}, \"Netcraft\": {\"method\": \"blacklist\", \"engine_name\": \"Netcraft\", \"category\": \"undetected\", \"result\": \"unrated\"}, \"OpenPhish\": {\"method\": \"blacklist\", \"engine_name\": \"OpenPhish\", \"category\": \"harmless\", \"result\": \"clean\"}, \"Phishing Database\": {\"method\": \"blacklist\", \"engine_name\": \"Phishing Database\", \"category\": \"harmless\", \"result\": \"clean\"}, \"PhishFort\": {\"method\": \"blacklist\", \"engine_name\": \"PhishFort\", \"category\": \"undetected\", \"result\": \"unrated\"}, \"PhishLabs\": {\"method\": \"blacklist\", \"engine_name\": \"PhishLabs\", \"category\": \"undetected\", \"result\": \"unrated\"}, \"Phishtank\": {\"method\": \"blacklist\", \"engine_name\": \"Phishtank\", \"category\": \"harmless\", \"result\": \"clean\"}, \"PREBYTES\": {\"method\": \"blacklist\", \"engine_name\": \"PREBYTES\", \"category\": \"harmless\", \"result\": \"clean\"}, \"PrecisionSec\": {\"method\": \"blacklist\", \"engine_name\": \"PrecisionSec\", \"category\": \"undetected\", \"result\": \"unrated\"}, \"Quick Heal\": {\"method\": \"blacklist\", \"engine_name\": \"Quick Heal\", \"category\": \"harmless\", \"result\": \"clean\"}, \"Quttera\": {\"method\": \"blacklist\", \"engine_name\": \"Quttera\", \"category\": \"harmless\", \"result\": \"clean\"}, \"SafeToOpen\": {\"method\": \"blacklist\", \"engine_name\": \"SafeToOpen\", \"category\": \"undetected\", \"result\": \"unrated\"}, \"Sansec eComscan\": {\"method\": \"blacklist\", \"engine_name\": \"Sansec eComscan\", \"category\": \"undetected\", \"result\": \"unrated\"}, \"Scantitan\": {\"method\": \"blacklist\", \"engine_name\": \"Scantitan\", \"category\": \"harmless\", \"result\": \"clean\"}, \"SCUMWARE.org\": {\"method\": \"blacklist\", \"engine_name\": \"SCUMWARE.org\", \"category\": \"harmless\", \"result\": \"clean\"}, \"Seclookup\": {\"method\": \"blacklist\", \"engine_name\": \"Seclookup\", \"category\": \"harmless\", \"result\": \"clean\"}, \"SecureBrain\": {\"method\": \"blacklist\", \"engine_name\": \"SecureBrain\", \"category\": \"undetected\", \"result\": \"unrated\"}, \"Segasec\": {\"method\": \"blacklist\", \"engine_name\": \"Segasec\", \"category\": \"undetected\", \"result\": \"unrated\"}, \"SOCRadar\": {\"method\": \"blacklist\", \"engine_name\": \"SOCRadar\", \"category\": \"undetected\", \"result\": \"unrated\"}, \"Sophos\": {\"method\": \"blacklist\", \"engine_name\": \"Sophos\", \"category\": \"harmless\", \"result\": \"clean\"}, \"Spam404\": {\"method\": \"blacklist\", \"engine_name\": \"Spam404\", \"category\": \"harmless\", \"result\": \"clean\"}, \"StopForumSpam\": {\"method\": \"blacklist\", \"engine_name\": \"StopForumSpam\", \"category\": \"harmless\", \"result\": \"clean\"}, \"Sucuri SiteCheck\": {\"method\": \"blacklist\", \"engine_name\": \"Sucuri SiteCheck\", \"category\": \"harmless\", \"result\": \"clean\"}, \"ThreatHive\": {\"method\": \"blacklist\", \"engine_name\": \"ThreatHive\", \"category\": \"harmless\", \"result\": \"clean\"}, \"Threatsourcing\": {\"method\": \"blacklist\", \"engine_name\": \"Threatsourcing\", \"category\": \"harmless\", \"result\": \"clean\"}, \"Trustwave\": {\"method\": \"blacklist\", \"engine_name\": \"Trustwave\", \"category\": \"harmless\", \"result\": \"clean\"}, \"Underworld\": {\"method\": \"blacklist\", \"engine_name\": \"Underworld\", \"category\": \"undetected\", \"result\": \"unrated\"}, \"URLhaus\": {\"method\": \"blacklist\", \"engine_name\": \"URLhaus\", \"category\": \"harmless\", \"result\": \"clean\"}, \"URLQuery\": {\"method\": \"blacklist\", \"engine_name\": \"URLQuery\", \"category\": \"undetected\", \"result\": \"unrated\"}, \"Viettel Threat Intelligence\": {\"method\": \"blacklist\", \"engine_name\": \"Viettel Threat Intelligence\", \"category\": \"harmless\", \"result\": \"clean\"}, \"VIPRE\": {\"method\": \"blacklist\", \"engine_name\": \"VIPRE\", \"category\": \"undetected\", \"result\": \"unrated\"}, \"VX Vault\": {\"method\": \"blacklist\", \"engine_name\": \"VX Vault\", \"category\": \"harmless\", \"result\": \"clean\"}, \"ViriBack\": {\"method\": \"blacklist\", \"engine_name\": \"ViriBack\", \"category\": \"harmless\", \"result\": \"clean\"}, \"Webroot\": {\"method\": \"blacklist\", \"engine_name\": \"Webroot\", \"category\": \"harmless\", \"result\": \"clean\"}, \"Yandex Safebrowsing\": {\"method\": \"blacklist\", \"engine_name\": \"Yandex Safebrowsing\", \"category\": \"harmless\", \"result\": \"clean\"}, \"ZeroCERT\": {\"method\": \"blacklist\", \"engine_name\": \"ZeroCERT\", \"category\": \"harmless\", \"result\": \"clean\"}, \"desenmascara.me\": {\"method\": \"blacklist\", \"engine_name\": \"desenmascara.me\", \"category\": \"harmless\", \"result\": \"clean\"}, \"malwares.com URL checker\": {\"method\": \"blacklist\", \"engine_name\": \"malwares.com URL checker\", \"category\": \"harmless\", \"result\": \"clean\"}, \"securolytics\": {\"method\": \"blacklist\", \"engine_name\": \"securolytics\", \"category\": \"harmless\", \"result\": \"clean\"}, \"Xcitium Verdict Cloud\": {\"method\": \"blacklist\", \"engine_name\": \"Xcitium Verdict Cloud\", \"category\": \"harmless\", \"result\": \"clean\"}, \"zvelo\": {\"method\": \"blacklist\", \"engine_name\": \"zvelo\", \"category\": \"undetected\", \"result\": \"unrated\"}, \"ZeroFox\": {\"method\": \"blacklist\", \"engine_name\": \"ZeroFox\", \"category\": \"undetected\", \"result\": \"unrated\"}}, \"tags\": [\"private\"], \"total_votes\": {\"harmless\": 0, \"malicious\": 0}, \"last_modification_date\": 1735656277, \"whois_date\": 1669959320, \"whois\": \"NetRange: 192.168.0.0 - 192.168.255.255\\\\nCIDR: 192.168.0.0/16\\\\nNetName: PRIVATE-ADDRESS-CBLK-RFC1918-IANA-RESERVED\\\\nNetHandle: NET-192-168-0-0-1\\\\nParent: NET192 (NET-192-0-0-0-0)\\\\nNetType: IANA Special Use\\\\nOriginAS: \\\\nOrganization: Internet Assigned Numbers Authority (IANA)\\\\nRegDate: 1994-03-15\\\\nUpdated: 2013-08-30\\\\nComment: These addresses are in use by many millions of independently operated networks, which might be as small as a single computer connected to a home gateway, and are automatically configured in hundreds of millions of devices. They are only intended for use within a private context and traffic that needs to cross the Internet will need to use a different, unique address.\\\\r\\\\nComment: \\\\r\\\\nComment: These addresses can be used by anyone without any need to coordinate with IANA or an Internet registry. The traffic from these addresses does not come from ICANN or IANA. We are not the source of activity you may see on logs or in e-mail records. Please refer to http://www.iana.org/abuse/answers\\\\r\\\\nComment: \\\\r\\\\nComment: These addresses were assigned by the IETF, the organization that develops Internet protocols, in the Best Current Practice document, RFC 1918 which can be found at:\\\\r\\\\nComment: http://datatracker.ietf.org/doc/rfc1918\\\\nRef: https://rdap.arin.net/registry/ip/192.168.0.0\\\\nOrgName: Internet Assigned Numbers Authority\\\\nOrgId: IANA\\\\nAddress: 12025 Waterfront Drive\\\\r\\\\nAddress: Suite 300\\\\nCity: Los Angeles\\\\nStateProv: CA\\\\nPostalCode: 90292\\\\nCountry: US\\\\nRegDate: \\\\nUpdated: 2012-08-31\\\\nRef: https://rdap.arin.net/registry/entity/IANA\\\\nOrgAbuseHandle: IANA-IP-ARIN\\\\nOrgAbuseName: ICANN\\\\nOrgAbusePhone: +1-310-301-5820 \\\\nOrgAbuseEmail: abuse@iana.org\\\\nOrgAbuseRef: https://rdap.arin.net/registry/entity/IANA-IP-ARIN\\\\nOrgTechHandle: IANA-IP-ARIN\\\\nOrgTechName: ICANN\\\\nOrgTechPhone: +1-310-301-5820 \\\\nOrgTechEmail: abuse@iana.org\\\\nOrgTechRef: https://rdap.arin.net/registry/entity/IANA-IP-ARIN\\\\n\", \"last_analysis_stats\": {\"malicious\": 0, \"suspicious\": 0, \"undetected\": 31, \"harmless\": 63, \"timeout\": 0}, \"last_analysis_date\": 1735655330}}}', name='get_ip_all_details', id='ac723933-30f1-45fe-b9db-3265051fd6ef', tool_call_id='a1e799c9-2fe5-4778-9230-60a901c969ae'),\n",
       " AIMessage(content='Okay, I\\'ve analyzed the IP address 192.168.11.1. Here\\'s a summary of my findings:\\n\\n**Summary:**\\n\\n*   **Reputation:** The IP address has a neutral reputation score of 0.\\n*  **Tags:** It is tagged as \"private,\" which means this IP address falls within the private IP range as defined by RFC 1918.\\n*   **Analysis Results:** The vast majority of security engines (63 out of 94) categorized this IP as harmless. A smaller number of engines (31) did not detect any specific threat, and none identified it as malicious or suspicious.\\n*   **WHOIS Information:** The WHOIS data confirms that this IP address is within the private IP range (192.168.0.0/16), assigned by IANA for private use.\\n\\n**Recommendations:**\\n\\n1.  **No Immediate Security Concern:** Given that 192.168.11.1 is a private IP address, it should not be accessible from the public internet. This is not an IP you would typically see as a source or destination of malicious traffic.\\n2.  **Internal Network Check:** If you are seeing this IP in your logs, you should investigate its presence within your internal network. Ensure that devices using this IP are behaving as expected.\\n3.  **Regular Monitoring:** Continue to monitor your network logs for any unusual activity. Even though this IP itself is not a threat, any unusual behavior associated with it could indicate a compromised device on your internal network.\\n\\nIn summary, the IP address 192.168.11.1 is a private IP address and does not pose a direct security threat from the internet. However, internal monitoring is still advised to ensure the security of your local network.\\n', additional_kwargs={}, response_metadata={'prompt_feedback': {'block_reason': 0, 'safety_ratings': []}, 'finish_reason': 'STOP', 'safety_ratings': [{'category': 'HARM_CATEGORY_HATE_SPEECH', 'probability': 'NEGLIGIBLE', 'blocked': False}, {'category': 'HARM_CATEGORY_DANGEROUS_CONTENT', 'probability': 'NEGLIGIBLE', 'blocked': False}, {'category': 'HARM_CATEGORY_HARASSMENT', 'probability': 'NEGLIGIBLE', 'blocked': False}, {'category': 'HARM_CATEGORY_SEXUALLY_EXPLICIT', 'probability': 'NEGLIGIBLE', 'blocked': False}]}, id='run-73821cf6-23f9-4536-8ed8-f600018f200d-0', usage_metadata={'input_tokens': 4332, 'output_tokens': 390, 'total_tokens': 4722, 'input_token_details': {'cache_read': 0}}),\n",
       " HumanMessage(content='good by', additional_kwargs={}, response_metadata={}, id='2725a219-db09-44ea-b1db-dd7561f2739f'),\n",
       " AIMessage(content='Goodbye! If you have any more IP addresses or other cybersecurity tasks you need help with in the future, feel free to ask.\\n', additional_kwargs={}, response_metadata={'prompt_feedback': {'block_reason': 0, 'safety_ratings': []}, 'finish_reason': 'STOP', 'safety_ratings': [{'category': 'HARM_CATEGORY_HATE_SPEECH', 'probability': 'NEGLIGIBLE', 'blocked': False}, {'category': 'HARM_CATEGORY_DANGEROUS_CONTENT', 'probability': 'NEGLIGIBLE', 'blocked': False}, {'category': 'HARM_CATEGORY_HARASSMENT', 'probability': 'NEGLIGIBLE', 'blocked': False}, {'category': 'HARM_CATEGORY_SEXUALLY_EXPLICIT', 'probability': 'NEGLIGIBLE', 'blocked': False}]}, id='run-a77bf1ef-9fb6-4622-851e-dbe5c926a299-0', usage_metadata={'input_tokens': 4726, 'output_tokens': 27, 'total_tokens': 4753, 'input_token_details': {'cache_read': 0}})]"
      ]
     },
     "execution_count": 21,
     "metadata": {},
     "output_type": "execute_result"
    }
   ],
   "source": [
    "result['messages']"
   ]
  },
  {
   "cell_type": "code",
   "execution_count": 3,
   "metadata": {},
   "outputs": [
    {
     "name": "stdout",
     "output_type": "stream",
     "text": [
      "{\"ip\":\"111.68.97.29\",\"ip_number\":\"1866752285\",\"ip_version\":4,\"country_name\":\"Pakistan\",\"country_code2\":\"PK\",\"isp\":\"IP Allocation 1 NUST\",\"response_code\":\"200\",\"response_message\":\"OK\"}\n"
     ]
    }
   ],
   "source": [
    "import requests\n",
    "\n",
    "def get_ip_location(ip_address):\n",
    "    \n",
    "    url = f\"https://api.iplocation.net/?ip={ip_address}\"\n",
    "\n",
    "    try:\n",
    "        \n",
    "        response = requests.get(url)\n",
    "        \n",
    "        if response.status_code == 200:\n",
    "            data = response.text            \n",
    "            return data\n",
    "        else:\n",
    "            return f\"Error: Cant retrieve data (Status code: {response.status_code})\"\n",
    "    except Exception as e:\n",
    "        return f\"Error: {str(e)}\"\n",
    "\n",
    "#### MAIN\n",
    "ip_address = \"111.68.97.29\"\n",
    "location_info = get_ip_location(ip_address)\n",
    "print(location_info)"
   ]
  },
  {
   "cell_type": "code",
   "execution_count": 4,
   "metadata": {},
   "outputs": [
    {
     "data": {
      "text/plain": [
       "str"
      ]
     },
     "execution_count": 4,
     "metadata": {},
     "output_type": "execute_result"
    }
   ],
   "source": [
    "type(location_info)"
   ]
  }
 ],
 "metadata": {
  "kernelspec": {
   "display_name": "base",
   "language": "python",
   "name": "python3"
  },
  "language_info": {
   "codemirror_mode": {
    "name": "ipython",
    "version": 3
   },
   "file_extension": ".py",
   "mimetype": "text/x-python",
   "name": "python",
   "nbconvert_exporter": "python",
   "pygments_lexer": "ipython3",
   "version": "3.12.4"
  }
 },
 "nbformat": 4,
 "nbformat_minor": 2
}
